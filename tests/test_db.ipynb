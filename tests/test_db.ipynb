{
 "cells": [
  {
   "cell_type": "code",
   "execution_count": 1,
   "id": "4443dd46-39b5-49cc-ab24-adc307d4ba15",
   "metadata": {},
   "outputs": [],
   "source": [
    "import psycopg2"
   ]
  },
  {
   "cell_type": "code",
   "execution_count": 2,
   "id": "8b0a4e18-97ad-4a29-9928-3eb567f37108",
   "metadata": {},
   "outputs": [],
   "source": [
    "# Database connection parameters\n",
    "db_params = {\n",
    "    'host': 'localhost',\n",
    "    'port': 5432,\n",
    "    'database': 'arxiv_database',\n",
    "    'user': 'arxiv_user',\n",
    "    'password': 'arxiv_password',\n",
    "}"
   ]
  },
  {
   "cell_type": "code",
   "execution_count": 3,
   "id": "ea236195-79fb-4a72-8c24-2bd708ab37cc",
   "metadata": {},
   "outputs": [
    {
     "name": "stdout",
     "output_type": "stream",
     "text": [
      "PostgreSQL version: ('PostgreSQL 15.4 (Debian 15.4-2.pgdg120+1) on x86_64-pc-linux-gnu, compiled by gcc (Debian 12.2.0-14) 12.2.0, 64-bit',)\n"
     ]
    }
   ],
   "source": [
    "try:\n",
    "    # Connect to the PostgreSQL database\n",
    "    connection = psycopg2.connect(**db_params)\n",
    "\n",
    "    # Create a cursor\n",
    "    cursor = connection.cursor()\n",
    "\n",
    "    # Example: Execute a simple query\n",
    "    cursor.execute(\"SELECT version();\")\n",
    "    version = cursor.fetchone()\n",
    "    print(\"PostgreSQL version:\", version)\n",
    "\n",
    "except Exception as e:\n",
    "    print(\"Error:\", e)\n",
    "\n",
    "finally:\n",
    "    # Close the cursor and connection\n",
    "    if cursor:\n",
    "        cursor.close()\n",
    "    if connection:\n",
    "        connection.close()"
   ]
  },
  {
   "cell_type": "code",
   "execution_count": 4,
   "id": "ea619b3f-4afa-42e0-9cd1-8aa87aae00d8",
   "metadata": {},
   "outputs": [
    {
     "name": "stdout",
     "output_type": "stream",
     "text": [
      "Table 'example_table' created successfully.\n",
      "Data inserted into 'example_table'.\n",
      "\n",
      "Table Content:\n",
      "(1, 'John', 25)\n",
      "(2, 'Alice', 30)\n",
      "(3, 'Bob', 22)\n",
      "\n",
      "Table 'example_table' dropped successfully.\n"
     ]
    }
   ],
   "source": [
    "try:\n",
    "    # Connect to the PostgreSQL database\n",
    "    connection = psycopg2.connect(**db_params)\n",
    "\n",
    "    # Create a cursor\n",
    "    cursor = connection.cursor()\n",
    "\n",
    "    # Create a table\n",
    "    create_table_query = '''\n",
    "    CREATE TABLE IF NOT EXISTS example_table (\n",
    "        id SERIAL PRIMARY KEY,\n",
    "        name VARCHAR(100),\n",
    "        age INT\n",
    "    );\n",
    "    '''\n",
    "    cursor.execute(create_table_query)\n",
    "    print(\"Table 'example_table' created successfully.\")\n",
    "\n",
    "    # Insert data into the table\n",
    "    insert_data_query = \"INSERT INTO example_table (name, age) VALUES (%s, %s);\"\n",
    "    data_to_insert = [(\"John\", 25), (\"Alice\", 30), (\"Bob\", 22)]\n",
    "\n",
    "    for record in data_to_insert:\n",
    "        cursor.execute(insert_data_query, record)\n",
    "\n",
    "    connection.commit()\n",
    "    print(\"Data inserted into 'example_table'.\")\n",
    "\n",
    "    # View the table content\n",
    "    select_query = \"SELECT * FROM example_table;\"\n",
    "    cursor.execute(select_query)\n",
    "    rows = cursor.fetchall()\n",
    "\n",
    "    print(\"\\nTable Content:\")\n",
    "    for row in rows:\n",
    "        print(row)\n",
    "\n",
    "    # Drop the table\n",
    "    drop_table_query = \"DROP TABLE IF EXISTS example_table;\"\n",
    "    cursor.execute(drop_table_query)\n",
    "    print(\"\\nTable 'example_table' dropped successfully.\")\n",
    "\n",
    "    # Commit the changes\n",
    "    connection.commit()\n",
    "\n",
    "except Exception as e:\n",
    "    print(\"Error:\", e)\n",
    "\n",
    "finally:\n",
    "    # Close the cursor and connection\n",
    "    if cursor:\n",
    "        cursor.close()\n",
    "    if connection:\n",
    "        connection.close()"
   ]
  },
  {
   "cell_type": "code",
   "execution_count": 4,
   "id": "e59e1ebd-b8cb-41e3-95cf-07ecee80c1be",
   "metadata": {},
   "outputs": [
    {
     "name": "stdout",
     "output_type": "stream",
     "text": [
      "Table 'papers' dropped successfully.\n"
     ]
    }
   ],
   "source": [
    "try:\n",
    "    # Connect to the PostgreSQL database\n",
    "    connection = psycopg2.connect(**db_params)\n",
    "\n",
    "    # Create a cursor\n",
    "    cursor = connection.cursor()\n",
    "\n",
    "    # Drop the table\n",
    "    drop_table_query = \"DROP TABLE IF EXISTS papers;\"\n",
    "    cursor.execute(drop_table_query)\n",
    "    print(\"Table 'papers' dropped successfully.\")\n",
    "\n",
    "    # Commit the changes\n",
    "    connection.commit()\n",
    "\n",
    "except Exception as e:\n",
    "    print(\"Error:\", e)\n",
    "\n",
    "finally:\n",
    "    # Close the cursor and connection\n",
    "    if cursor:\n",
    "        cursor.close()\n",
    "    if connection:\n",
    "        connection.close()"
   ]
  },
  {
   "cell_type": "code",
   "execution_count": null,
   "id": "61c060ad-7878-46cd-adba-77ac5403b027",
   "metadata": {},
   "outputs": [],
   "source": [
    "try:\n",
    "    # Connect to the PostgreSQL database\n",
    "    connection = psycopg2.connect(**db_params)\n",
    "\n",
    "    # Create a cursor\n",
    "    cursor = connection.cursor()\n",
    "\n",
    "    # Drop the table\n",
    "    drop_table_query = \"DROP TABLE IF EXISTS papers;\"\n",
    "    cursor.execute(drop_table_query)\n",
    "    print(\"Table 'papers' dropped successfully.\")\n",
    "\n",
    "    # Commit the changes\n",
    "    connection.commit()\n",
    "\n",
    "except Exception as e:\n",
    "    print(\"Error:\", e)\n",
    "\n",
    "finally:\n",
    "    # Close the cursor and connection\n",
    "    if cursor:\n",
    "        cursor.close()\n",
    "    if connection:\n",
    "        connection.close()"
   ]
  },
  {
   "cell_type": "code",
   "execution_count": 9,
   "id": "b4bdfe58-e683-4d02-9d37-f005b0eef8ba",
   "metadata": {},
   "outputs": [],
   "source": [
    "def select_first_row(cursor):\n",
    "    select_query = \"SELECT * FROM papers LIMIT 1;\"\n",
    "    cursor.execute(select_query)\n",
    "    row = cursor.fetchone()\n",
    "\n",
    "    if row:\n",
    "        print(\"\\nFirst Row:\")\n",
    "        print(\"ID:\", row[0])\n",
    "        print(\"Authors:\", row[1])\n",
    "        print(\"Title:\", row[2])\n",
    "        print(\"DOI:\", row[3])\n",
    "        print(\"Abstract:\", row[4])\n",
    "        print(\"---------------------------\")\n",
    "    else:\n",
    "        print(\"\\nNo rows found in the 'papers' table.\")"
   ]
  },
  {
   "cell_type": "code",
   "execution_count": 12,
   "id": "2c50fac6-0a5c-4828-aac6-dbc9a9419785",
   "metadata": {},
   "outputs": [
    {
     "name": "stdout",
     "output_type": "stream",
     "text": [
      "\n",
      "First Row:\n",
      "ID: 1\n",
      "Authors: C. Bal\\'azs, E. L. Berger, P. M. Nadolsky, C.-P. Yuan\n",
      "Title: Calculation of prompt diphoton production cross sections at Tevatron and\n",
      "  LHC energies\n",
      "DOI: 10.1103/PhysRevD.76.013009\n",
      "Abstract:   A fully differential calculation in perturbative quantum chromodynamics is\n",
      "presented for the production of massive photon pairs at hadron colliders. All\n",
      "next-to-leading order perturbative contributions from quark-antiquark,\n",
      "gluon-(anti)quark, and gluon-gluon subprocesses are included, as well as\n",
      "all-orders resummation of initial-state gluon radiation valid at\n",
      "next-to-next-to-leading logarithmic accuracy. The region of phase space is\n",
      "specified in which the calculation is most reliable. Good agreement is\n",
      "demonstrated with data from the Fermilab Tevatron, and predictions are made for\n",
      "more detailed tests with CDF and DO data. Predictions are shown for\n",
      "distributions of diphoton pairs produced at the energy of the Large Hadron\n",
      "Collider (LHC). Distributions of the diphoton pairs from the decay of a Higgs\n",
      "boson are contrasted with those produced from QCD processes at the LHC, showing\n",
      "that enhanced sensitivity to the signal can be obtained with judicious\n",
      "selection of events.\n",
      "\n",
      "---------------------------\n"
     ]
    }
   ],
   "source": [
    "try:\n",
    "    # Connect to the PostgreSQL database\n",
    "    connection = psycopg2.connect(**db_params)\n",
    "\n",
    "    # Create a cursor\n",
    "    cursor = connection.cursor()\n",
    "\n",
    "    # Select the first row from the 'papers' table\n",
    "    select_first_row(cursor)\n",
    "\n",
    "except Exception as e:\n",
    "    print(\"Error:\", e)\n",
    "\n",
    "finally:\n",
    "    # Close the cursor and connection\n",
    "    if cursor:\n",
    "        cursor.close()\n",
    "    if connection:\n",
    "        connection.close()"
   ]
  },
  {
   "cell_type": "code",
   "execution_count": 11,
   "id": "1e5bbaca-a2d6-4a38-a97d-de60a1922ed7",
   "metadata": {},
   "outputs": [],
   "source": [
    "import numpy as np"
   ]
  },
  {
   "cell_type": "code",
   "execution_count": 15,
   "id": "f45ecb97-f6e2-456e-8773-adfa56062372",
   "metadata": {},
   "outputs": [
    {
     "name": "stdout",
     "output_type": "stream",
     "text": [
      "Error: not all arguments converted during string formatting\n"
     ]
    }
   ],
   "source": [
    "try:\n",
    "    # Connect to the PostgreSQL database\n",
    "    connection = psycopg2.connect(**db_params)\n",
    "\n",
    "    # Create a cursor\n",
    "    cursor = connection.cursor()\n",
    "\n",
    "    # Drop the table\n",
    "    find_nearest_embedding_query = \"SELECT * FROM papers ORDER BY encoded_abstract <-> %s LIMIT 1;\"\n",
    "    embeddings = cursor.execute(find_nearest_embedding_query, np.random.rand(1024).tolist())\n",
    "    print(embeddings)\n",
    "\n",
    "    # Commit the changes\n",
    "    connection.commit()\n",
    "\n",
    "except Exception as e:\n",
    "    print(\"Error:\", e)\n",
    "\n",
    "finally:\n",
    "    # Close the cursor and connection\n",
    "    if cursor:\n",
    "        cursor.close()\n",
    "    if connection:\n",
    "        connection.close()"
   ]
  },
  {
   "cell_type": "code",
   "execution_count": 16,
   "id": "0088225d-f731-4a4f-ae13-11b42cdcb50c",
   "metadata": {},
   "outputs": [],
   "source": [
    "from psycopg2 import extras"
   ]
  },
  {
   "cell_type": "code",
   "execution_count": 23,
   "id": "10835429-f792-4061-89e0-8b1b45df69f8",
   "metadata": {},
   "outputs": [
    {
     "name": "stdout",
     "output_type": "stream",
     "text": [
      "Authors: Rodrigo F. D\\'iaz, Carolina Cincunegui and Pablo J. D. Mauas\n",
      "  (Instituto de Astronom\\'ia y F\\'isica del Espacio (IAFE). Buenos Aires,\n",
      "  Argentina)\n",
      "Title: The Na I D resonance lines in main sequence late-type stars\n",
      "Abstract:   We study the sodium D lines (D1: 5895.92 \\AA; D2: 5889.95 \\AA) in late-type\n",
      "dwarf stars. The stars have spectral types between F6 and M5.5 (B-V between\n",
      "0.457 and 1.807) and metallicity between [Fe/H] = -0.82 and 0.6. We obtained\n",
      "medium resolution echelle spectra using the 2.15-m telescope at the argentinian\n",
      "observatory CASLEO. The observations have been performed periodically since\n",
      "1999. The spectra were calibrated in wavelength and in flux. A definition of\n",
      "the pseudo-continuum level is found for all our observations. We also define a\n",
      "continuum level for calibration purposes. The equivalent width of the D lines\n",
      "is computed in detail for all our spectra and related to the colour index (B-V)\n",
      "of the stars. When possible, we perform a careful comparison with previous\n",
      "studies. Finally, we construct a spectral index (R_D') as the ratio between the\n",
      "flux in the D lines, and the bolometric flux. We find that, once corrected for\n",
      "the photospheric contribution, this index can be used as a chromospheric\n",
      "activity indicator in stars with a high level of activity. Additionally, we\n",
      "find that combining some of our results, we obtain a method to calibrate in\n",
      "flux stars of unknown colour.\n",
      "\n"
     ]
    }
   ],
   "source": [
    "try:\n",
    "    # Connect to the PostgreSQL database\n",
    "    connection = psycopg2.connect(**db_params)\n",
    "\n",
    "    # Create a cursor with extras module\n",
    "    cursor = connection.cursor(cursor_factory=extras.RealDictCursor)\n",
    "\n",
    "    find_nearest_embedding_query = \"SELECT authors, title, abstract FROM papers ORDER BY encoded_abstract <-> %s::vector(1024) LIMIT 1;\"\n",
    "    cursor.execute(find_nearest_embedding_query, (np.random.rand(1024).tolist(),))\n",
    "    \n",
    "    result = cursor.fetchone()\n",
    "    if result:\n",
    "        print(\"Authors:\", result['authors'])\n",
    "        print(\"Title:\", result['title'])\n",
    "        print(\"Abstract:\", result['abstract'])\n",
    "    else:\n",
    "        print(\"No results found.\")\n",
    "\n",
    "    # Commit the changes\n",
    "    connection.commit()\n",
    "\n",
    "except Exception as e:\n",
    "    print(\"Error:\", e)\n",
    "\n",
    "finally:\n",
    "    # Close the cursor and connection\n",
    "    if cursor:\n",
    "        cursor.close()\n",
    "    if connection:\n",
    "        connection.close()"
   ]
  },
  {
   "cell_type": "code",
   "execution_count": null,
   "id": "605c789a-634e-47bb-82c4-a2ae312a6934",
   "metadata": {},
   "outputs": [],
   "source": []
  }
 ],
 "metadata": {
  "kernelspec": {
   "display_name": "Python 3 (ipykernel)",
   "language": "python",
   "name": "python3"
  },
  "language_info": {
   "codemirror_mode": {
    "name": "ipython",
    "version": 3
   },
   "file_extension": ".py",
   "mimetype": "text/x-python",
   "name": "python",
   "nbconvert_exporter": "python",
   "pygments_lexer": "ipython3",
   "version": "3.10.0"
  }
 },
 "nbformat": 4,
 "nbformat_minor": 5
}
